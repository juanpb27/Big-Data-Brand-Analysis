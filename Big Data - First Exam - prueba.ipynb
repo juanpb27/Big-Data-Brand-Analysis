{
 "cells": [
  {
   "cell_type": "markdown",
   "id": "3563aa77",
   "metadata": {},
   "source": [
    "## **Lingerie Shopping Brand Analysis**\n",
    "\n",
    "**Big Data - First Exam** - Code by Fernando Quintero and Juan Peña.  10/mar/2022"
   ]
  },
  {
   "cell_type": "markdown",
   "id": "0a47ed9a",
   "metadata": {},
   "source": [
    "In this work we perform a brand analysis, and developed an analysis on the fashion trend of underwear and swimwear products. Datasets were created by extracting data from popular retail sites via PromptCloud data extraction solutions. Sites covered are; Amazon, Victoria's Secret, Btemptd, Calvin Klein, Hanky Panky, American Eagle, Macy's, Nordstrom, Topshop USA. Finally, we perform a predictive analysis taking into account the algorithms seen in class."
   ]
  },
  {
   "cell_type": "markdown",
   "id": "efc97d17",
   "metadata": {},
   "source": [
    "#### **Table of Contents**\n",
    "1.   [Import libraries](#implibraries)\n",
    "2.   [Read dataset](#readdata)\n",
    "3.   [Data Cleaning](#dataclean)\n",
    "4.   [Filter profiles](#filer)\n",
    "5.   [Compute roughness parameters](#compute)\n",
    "6.   [Roughness parameters for whole image](#whole)"
   ]
  },
  {
   "cell_type": "markdown",
   "id": "4543fe90",
   "metadata": {},
   "source": [
    "### 1. Import libraries <a name=\"implibraries\"></a>\n",
    "- In this section we import all the libraries needed for the analysis, the most important ones are `pandas` for descriptive and predictive data analysis, and `seaborn` for making cool plots. In addition, we import a `pip` library called `fuzzywuzzy` to find some repeated names in the brand names. "
   ]
  },
  {
   "cell_type": "code",
   "execution_count": 87,
   "id": "d601a941",
   "metadata": {
    "scrolled": false
   },
   "outputs": [
    {
     "name": "stdout",
     "output_type": "stream",
     "text": [
      "/usr/lib/python3/dist-packages/secretstorage/dhcrypto.py:15: CryptographyDeprecationWarning: int_from_bytes is deprecated, use int.from_bytes instead\n",
      "  from cryptography.utils import int_from_bytes\n",
      "/usr/lib/python3/dist-packages/secretstorage/util.py:19: CryptographyDeprecationWarning: int_from_bytes is deprecated, use int.from_bytes instead\n",
      "  from cryptography.utils import int_from_bytes\n",
      "Requirement already satisfied: fuzzywuzzy in /home/student05/.local/lib/python3.8/site-packages (0.18.0)\n",
      "Note: you may need to restart the kernel to use updated packages.\n"
     ]
    }
   ],
   "source": [
    "pip install fuzzywuzzy"
   ]
  },
  {
   "cell_type": "code",
   "execution_count": 81,
   "id": "bb71c383",
   "metadata": {},
   "outputs": [],
   "source": [
    "import numpy\n",
    "import os\n",
    "import time\n",
    "import random\n",
    "import numpy as np\n",
    "import pandas as pd\n",
    "import seaborn as sns\n",
    "\n",
    "# helpful modules\n",
    "import fuzzywuzzy\n",
    "from fuzzywuzzy import process\n",
    "import chardet\n",
    "\n",
    "# function to replace rows in the provided column of the provided dataframe\n",
    "# that match the provided string above the provided ratio with the provided string\n",
    "    \n",
    "def replace_names_in_column(df, column, string_to_match, min_ratio, string_to_replace):\n",
    "    # get a list of unique strings\n",
    "    strings = df[column].unique()\n",
    "    # get the top 10 closest matches to our input string\n",
    "    matches = fuzzywuzzy.process.extract(string_to_match, strings, \n",
    "                                         limit=10, scorer=fuzzywuzzy.fuzz.token_sort_ratio)\n",
    "    # only get matches with a ratio > 90\n",
    "    close_matches = [matches[0] for matches in matches if matches[1] >= min_ratio]\n",
    "    # get the rows of all the close matches in our dataframe\n",
    "    rows_with_matches = df[column].isin(close_matches)\n",
    "    # replace all rows with close matches with the input matches \n",
    "    df.loc[rows_with_matches, column] = string_to_replace\n",
    "    # let us know the function's done\n",
    "    print(\"All done!\")"
   ]
  },
  {
   "cell_type": "markdown",
   "id": "58b5cc9f",
   "metadata": {},
   "source": [
    "### 2. Read dataset <a name=\"readdata\"></a>"
   ]
  },
  {
   "cell_type": "markdown",
   "id": "03db7887",
   "metadata": {},
   "source": [
    "- We use the function `pd.read_csv` to read every inner wear data from the popular retail sites via PromptCloud's. The `PATH` folder contains the path where all the datasets are located."
   ]
  },
  {
   "cell_type": "code",
   "execution_count": 82,
   "id": "05c460fc",
   "metadata": {
    "scrolled": false
   },
   "outputs": [],
   "source": [
    "PATH = '../Data/datasets_parcial/'\n",
    "file_amazon = PATH + 'amazon_com.csv'\n",
    "file_btemptd = PATH + 'btemptd_com.csv'\n",
    "file_calvinklein = PATH + 'calvinklein_com.csv'\n",
    "file_hankypanky = PATH + 'hankypanky_com.csv'\n",
    "file_macys = PATH + 'macys_com.csv'\n",
    "file_shop_nordstrom = PATH + 'shop_nordstrom_com.csv'\n",
    "file_us_topshop = PATH + 'us_topshop_com.csv'\n",
    "file_victoriassecret = PATH + 'victoriassecret_com.csv'\n",
    "file_ae = PATH + 'ae_com.csv'\n",
    "\n",
    "data_amazon = pd.read_csv(file_amazon, sep=',', header= 0)\n",
    "data_btempt = pd.read_csv(file_btemptd, sep=',', header= 0)\n",
    "data_calvinklein = pd.read_csv(file_calvinklein, sep=',', header= 0)\n",
    "data_hankypanky = pd.read_csv(file_hankypanky, sep=',', header= 0)\n",
    "data_macys = pd.read_csv(file_macys, sep=',', header= 0)\n",
    "data_shop_nordstrom = pd.read_csv(file_shop_nordstrom, sep=',', header= 0)\n",
    "data_us_topsho = pd.read_csv(file_us_topshop, sep=',', header= 0)\n",
    "data_ae = pd.read_csv(file_ae, sep=',', header= 0)\n",
    "data_victoriassecret = pd.read_csv(file_victoriassecret, sep=',', header= 0)"
   ]
  },
  {
   "cell_type": "markdown",
   "id": "5e8d879d",
   "metadata": {},
   "source": [
    "- We then concatenate each Dataframe with the function `pd.concat`."
   ]
  },
  {
   "cell_type": "code",
   "execution_count": 83,
   "id": "6e5b3b1e",
   "metadata": {},
   "outputs": [
    {
     "name": "stdout",
     "output_type": "stream",
     "text": [
      "(613143, 14)\n"
     ]
    }
   ],
   "source": [
    "data = pd.concat([data_amazon, data_btempt, data_calvinklein, data_hankypanky, data_macys, data_shop_nordstrom, data_us_topsho, data_victoriassecret, data_ae], ignore_index = True)\n",
    "print(data.shape)"
   ]
  },
  {
   "cell_type": "markdown",
   "id": "c45751f4",
   "metadata": {},
   "source": [
    "- We show the first 3 rows of the dataset to check that everything is OK."
   ]
  },
  {
   "cell_type": "code",
   "execution_count": 114,
   "id": "bf5f5b4b",
   "metadata": {},
   "outputs": [
    {
     "data": {
      "text/html": [
       "<div>\n",
       "<style scoped>\n",
       "    .dataframe tbody tr th:only-of-type {\n",
       "        vertical-align: middle;\n",
       "    }\n",
       "\n",
       "    .dataframe tbody tr th {\n",
       "        vertical-align: top;\n",
       "    }\n",
       "\n",
       "    .dataframe thead th {\n",
       "        text-align: right;\n",
       "    }\n",
       "</style>\n",
       "<table border=\"1\" class=\"dataframe\">\n",
       "  <thead>\n",
       "    <tr style=\"text-align: right;\">\n",
       "      <th></th>\n",
       "      <th>product_name</th>\n",
       "      <th>mrp</th>\n",
       "      <th>price</th>\n",
       "      <th>pdp_url</th>\n",
       "      <th>brand_name</th>\n",
       "      <th>product_category</th>\n",
       "      <th>retailer</th>\n",
       "      <th>description</th>\n",
       "      <th>rating</th>\n",
       "      <th>review_count</th>\n",
       "      <th>style_attributes</th>\n",
       "      <th>total_sizes</th>\n",
       "      <th>available_size</th>\n",
       "      <th>color</th>\n",
       "    </tr>\n",
       "  </thead>\n",
       "  <tbody>\n",
       "    <tr>\n",
       "      <th>0</th>\n",
       "      <td>Calvin Klein Women's Sheer Marquisette Demi Un...</td>\n",
       "      <td>36.0</td>\n",
       "      <td>32.4</td>\n",
       "      <td>https://www.amazon.com/-/dp/B01NAVD98J?th=1&amp;psc=1</td>\n",
       "      <td>calvin klein</td>\n",
       "      <td>Bras</td>\n",
       "      <td>Amazon US</td>\n",
       "      <td>An unlined demi cup bra featuring sheer, sexy ...</td>\n",
       "      <td>4.5</td>\n",
       "      <td>47.0</td>\n",
       "      <td>[ 72% Nylon, 28% Elastane , Imported , hook an...</td>\n",
       "      <td>30B , 30C , 30D , 30DD , 32A , 32B , 32C , 32D...</td>\n",
       "      <td>30B , 30C , 30D , 30DD , 32B , 32C , 32D , 32D...</td>\n",
       "      <td>Bare</td>\n",
       "    </tr>\n",
       "    <tr>\n",
       "      <th>1</th>\n",
       "      <td>Wacoal Embrace Lace Bikini Panty</td>\n",
       "      <td>27.0</td>\n",
       "      <td>27.0</td>\n",
       "      <td>https://www.amazon.com/-/dp/B0011YQFNK?th=1&amp;psc=1</td>\n",
       "      <td>wacoal</td>\n",
       "      <td>Panties</td>\n",
       "      <td>Amazon US</td>\n",
       "      <td>Embrace lace bikini offers great fit and match...</td>\n",
       "      <td>4.4</td>\n",
       "      <td>91.0</td>\n",
       "      <td>[ 100% Nylon , Imported , Hand Wash , 1.2\" hig...</td>\n",
       "      <td>Small , Medium , Large , X-Large</td>\n",
       "      <td>Small , Medium , X-Large</td>\n",
       "      <td>Large</td>\n",
       "    </tr>\n",
       "    <tr>\n",
       "      <th>2</th>\n",
       "      <td>Wacoal Women's Slimline Seamless Minimizer Bra</td>\n",
       "      <td>65.0</td>\n",
       "      <td>65.0</td>\n",
       "      <td>https://www.amazon.com/-/dp/B000T3606Q?th=1&amp;psc=1</td>\n",
       "      <td>wacoal</td>\n",
       "      <td>Bras</td>\n",
       "      <td>Amazon US</td>\n",
       "      <td>Seamless underwire minimizer bra gives great s...</td>\n",
       "      <td>4.3</td>\n",
       "      <td>298.0</td>\n",
       "      <td>[ Cups: 100% Polyester; Back: 71% Nylon, 29% S...</td>\n",
       "      <td>32DD , 32DDD , 34C , 34D , 34DD , 34DDD , 36C ...</td>\n",
       "      <td>32DD , 32DDD , 34C , 34D , 34DD , 34DDD , 36C ...</td>\n",
       "      <td>Black</td>\n",
       "    </tr>\n",
       "  </tbody>\n",
       "</table>\n",
       "</div>"
      ],
      "text/plain": [
       "                                        product_name   mrp  price  \\\n",
       "0  Calvin Klein Women's Sheer Marquisette Demi Un...  36.0   32.4   \n",
       "1                   Wacoal Embrace Lace Bikini Panty  27.0   27.0   \n",
       "2     Wacoal Women's Slimline Seamless Minimizer Bra  65.0   65.0   \n",
       "\n",
       "                                             pdp_url    brand_name  \\\n",
       "0  https://www.amazon.com/-/dp/B01NAVD98J?th=1&psc=1  calvin klein   \n",
       "1  https://www.amazon.com/-/dp/B0011YQFNK?th=1&psc=1        wacoal   \n",
       "2  https://www.amazon.com/-/dp/B000T3606Q?th=1&psc=1        wacoal   \n",
       "\n",
       "  product_category   retailer  \\\n",
       "0             Bras  Amazon US   \n",
       "1          Panties  Amazon US   \n",
       "2             Bras  Amazon US   \n",
       "\n",
       "                                         description  rating  review_count  \\\n",
       "0  An unlined demi cup bra featuring sheer, sexy ...     4.5          47.0   \n",
       "1  Embrace lace bikini offers great fit and match...     4.4          91.0   \n",
       "2  Seamless underwire minimizer bra gives great s...     4.3         298.0   \n",
       "\n",
       "                                    style_attributes  \\\n",
       "0  [ 72% Nylon, 28% Elastane , Imported , hook an...   \n",
       "1  [ 100% Nylon , Imported , Hand Wash , 1.2\" hig...   \n",
       "2  [ Cups: 100% Polyester; Back: 71% Nylon, 29% S...   \n",
       "\n",
       "                                         total_sizes  \\\n",
       "0  30B , 30C , 30D , 30DD , 32A , 32B , 32C , 32D...   \n",
       "1                   Small , Medium , Large , X-Large   \n",
       "2  32DD , 32DDD , 34C , 34D , 34DD , 34DDD , 36C ...   \n",
       "\n",
       "                                      available_size  color  \n",
       "0  30B , 30C , 30D , 30DD , 32B , 32C , 32D , 32D...   Bare  \n",
       "1                           Small , Medium , X-Large  Large  \n",
       "2  32DD , 32DDD , 34C , 34D , 34DD , 34DDD , 36C ...  Black  "
      ]
     },
     "execution_count": 114,
     "metadata": {},
     "output_type": "execute_result"
    }
   ],
   "source": [
    "data.head(3)"
   ]
  },
  {
   "cell_type": "markdown",
   "id": "56a55c30",
   "metadata": {},
   "source": [
    "### 3. Data Cleaning <a name=\"dataclean\"></a>"
   ]
  },
  {
   "cell_type": "markdown",
   "id": "a2d7af65",
   "metadata": {},
   "source": [
    "- First, we visualize through a bar chart the different Brand Names in the dataset and we find that there are several repeated brands with different names, as is the case of Calvin Klein where we have 4 different categories because their names change in capital letters, spaces, dashes, etc. In addition, there are several brands with errors in the names. "
   ]
  },
  {
   "cell_type": "code",
   "execution_count": 84,
   "id": "ce18d8c9",
   "metadata": {},
   "outputs": [
    {
     "data": {
      "image/png": "[encoded data removed]",
      "text/plain": [
       "<Figure size 1080x432 with 1 Axes>"
      ]
     },
     "metadata": {
      "needs_background": "light"
     },
     "output_type": "display_data"
    }
   ],
   "source": [
    "data['brand_name'] = data['brand_name'].fillna('None')\n",
    "plt.figure(figsize=(15, 6))\n",
    "sns.countplot(data=data, x='brand_name', order = data['brand_name'].value_counts().index)\n",
    "plt.xticks(rotation=90)\n",
    "plt.show()"
   ]
  },
  {
   "cell_type": "markdown",
   "id": "8d1a8db8",
   "metadata": {},
   "source": [
    "- We can also use a `unique()` of `bands` to display the categories of the Brand Names."
   ]
  },
  {
   "cell_type": "code",
   "execution_count": 87,
   "id": "2cd79246",
   "metadata": {},
   "outputs": [
    {
     "name": "stdout",
     "output_type": "stream",
     "text": [
      "['Calvin-Klein' 'Wacoal' 'Hanky-Panky' 'b-temptd' 'Victorias-Secret'\n",
      " 'WACOAL' 'Calvin Klein' 'HankyPanky' 'Hanky Panky' \"b.tempt'd by Wacoal\"\n",
      " 'Calvin Klein Modern Cotton' 'Vanity Fair' 'Calvin Klein Performance'\n",
      " \"b.tempt'd\" 'HANKY PANKY' \"B.TEMPT'D BY WACOAL\" 'CALVIN KLEIN'\n",
      " 'NORDSTROM LINGERIE' 'US TOPSHOP' \"Victoria's Secret\"\n",
      " \"Victoria's Secret Pink\" 'AERIE']\n"
     ]
    }
   ],
   "source": [
    "brand_names = data['brand_name'].unique()\n",
    "print(brand_names)"
   ]
  },
  {
   "cell_type": "markdown",
   "id": "e6dea53a",
   "metadata": {},
   "source": [
    "- To solve this, we implement the `replace_names_in_column()` function defined at the beginning of this Notebook, which uses the `fuzzywuzzy` library to replace the repeated tag categories based on the similarity ratio between them. We then plot the bar chart again and we can see that we now have fewer brand names."
   ]
  },
  {
   "cell_type": "code",
   "execution_count": 88,
   "id": "d2477a5b",
   "metadata": {},
   "outputs": [
    {
     "name": "stdout",
     "output_type": "stream",
     "text": [
      "All done!\n",
      "All done!\n",
      "All done!\n",
      "All done!\n",
      "All done!\n",
      "All done!\n",
      "All done!\n"
     ]
    },
    {
     "data": {
      "image/png": "[encoded data removed]",
      "text/plain": [
       "<Figure size 1080x432 with 1 Axes>"
      ]
     },
     "metadata": {
      "needs_background": "light"
     },
     "output_type": "display_data"
    }
   ],
   "source": [
    "# convert to lower case\n",
    "data['brand_name'] = data['brand_name'].str.lower()\n",
    "# remove trailing white spaces\n",
    "data['brand_name'] = data['brand_name'].str.strip()\n",
    "\n",
    "# use the function we just wrote to replace close matches to \"d.i khan\" with \"d.i khan\"\n",
    "replace_names_in_column(df = data, column='brand_name', string_to_match = \"calvin klein\", min_ratio = 60, string_to_replace = \"calvin klein\")\n",
    "replace_names_in_column(df = data, column='brand_name', string_to_match = \"hanky panky\", min_ratio = 80, string_to_replace = \"hanky panky\")\n",
    "replace_names_in_column(df = data, column='brand_name', string_to_match = \"b. tempt'd\", min_ratio = 60, string_to_replace = \"b. tempt'd\")\n",
    "replace_names_in_column(df = data, column='brand_name', string_to_match = \"field-lbr_brands_browse-bin=calvin+klein\", min_ratio = 50, string_to_replace = \"calvin klein\")\n",
    "replace_names_in_column(df = data, column='brand_name', string_to_match = \"brands_browse-bin=b.tempt%27d\", min_ratio = 40, string_to_replace = \"b. tempt'd\")\n",
    "replace_names_in_column(df = data, column='brand_name', string_to_match = \"brands_browse-bin=wacoal\", min_ratio = 40, string_to_replace = \"wacoal\")\n",
    "replace_names_in_column(df = data, column='brand_name', string_to_match = \"victoria's secret\", min_ratio = 80, string_to_replace = \"victoria's secret\")\n",
    "\n",
    "brand_names = data['brand_name'].unique()\n",
    "plt.figure(figsize=(15, 6))\n",
    "sns.countplot(data=data, x='brand_name', order = data['brand_name'].value_counts().index)\n",
    "plt.xticks(rotation=90)\n",
    "plt.show()"
   ]
  },
  {
   "cell_type": "markdown",
   "id": "9951a5fe",
   "metadata": {},
   "source": [
    "- However, we can observe that there are still repeated brand names such as *victorias* with *victoria's secret* and *aeo* with *aerie*. For the latter, we use the `standardize_brand_names()` function to group them."
   ]
  },
  {
   "cell_type": "code",
   "execution_count": 89,
   "id": "985c5278",
   "metadata": {},
   "outputs": [],
   "source": [
    "def standardize_brand_names(brand_name):\n",
    "    brand_name = brand_name.lower()\n",
    "    brand_name = brand_name.replace(\"-\", \" \")\n",
    "    \n",
    "    if \"victorias\" in brand_name:\n",
    "        brand_name = \"victoria's secret\"\n",
    "    elif \"aeo\" in brand_name:\n",
    "        brand_name = \"aerie\"\n",
    "    brand_name = brand_name.strip()\n",
    "    return brand_name\n",
    "data['brand_name'] = data['brand_name'].apply(standardize_brand_names)"
   ]
  },
  {
   "cell_type": "markdown",
   "id": "8f8a3ca0",
   "metadata": {},
   "source": [
    "- Finally, we note that there are brands with very few records that will not have enough weight in our brand analysis. For this reason, we eliminate brand names that have a total of less than 50, as shown below."
   ]
  },
  {
   "cell_type": "code",
   "execution_count": 90,
   "id": "53d4bfcb",
   "metadata": {},
   "outputs": [
    {
     "name": "stdout",
     "output_type": "stream",
     "text": [
      "\n",
      "victoria's secret     453453\n",
      "hanky panky            48302\n",
      "wacoal                 35558\n",
      "calvin klein           31250\n",
      "aerie                  28304\n",
      "b. tempt'd              9712\n",
      "us topshop              3082\n",
      "vanity fair             2575\n",
      "nordstrom lingerie       870\n",
      "Name: brand_name, dtype: int64\n"
     ]
    },
    {
     "data": {
      "image/png": "[encoded data removed]",
      "text/plain": [
       "<Figure size 1080x432 with 1 Axes>"
      ]
     },
     "metadata": {
      "needs_background": "light"
     },
     "output_type": "display_data"
    }
   ],
   "source": [
    "counts = data['brand_name'].value_counts()\n",
    "#print(counts)\n",
    "data = data.loc[data['brand_name'].isin(counts.index[counts > 50])]\n",
    "counts = data['brand_name'].value_counts()\n",
    "print(\"\")\n",
    "print(counts)\n",
    "\n",
    "plt.figure(figsize=(15, 6))\n",
    "sns.countplot(data=data, x='brand_name', order = data['brand_name'].value_counts().index)\n",
    "plt.xticks(rotation=90)\n",
    "plt.show()"
   ]
  },
  {
   "cell_type": "markdown",
   "id": "587a5911",
   "metadata": {},
   "source": [
    "### 4. Standarize price values"
   ]
  },
  {
   "cell_type": "markdown",
   "id": "621038fc",
   "metadata": {},
   "source": []
  },
  {
   "cell_type": "code",
   "execution_count": 10,
   "id": "5221210f",
   "metadata": {},
   "outputs": [],
   "source": [
    "data.dtypes\n",
    "#Standardize price values used across datasets\n",
    "import re\n",
    "\n",
    "colon_to_dollar_conversion_rate = 0.0017\n",
    "ind_rp_to_dollar_conversion_rate = 0.000066\n",
    "def deletenumbers(value_str):\n",
    "    if type(value_str) is str:\n",
    "        pattern = r'[0-9]'\n",
    "        value_str= re.sub(pattern, '', value_str) \n",
    "        value_str.strip()\n",
    "            \n",
    "        return value_str\n",
    "    else:\n",
    "        return value_str\n",
    "\n",
    "def extract_usd_value(value_str):\n",
    "    if type(value_str) is str:\n",
    "        value_str= value_str.strip().lower().replace('usd', '').replace('$','').replace(\"\\-.*\",\"\").strip()\n",
    "        value_str = re.sub(r\"-.*\", \"\", value_str)\n",
    "        value_str = re.sub(r\"–.*\", \"\", value_str)\n",
    "        value_str = re.sub(r\"\\s.*\", \"\", value_str)\n",
    "        value_str.strip()\n",
    "        \n",
    "        if \"₡\" in value_str:\n",
    "            value_str = value_str.replace(\"₡\", \"\").strip()\n",
    "            value_str = pd.to_numeric(value_str) * colon_to_dollar_conversion_rate            \n",
    "        elif \"rp\" in value_str:\n",
    "            value_str = value_str.replace(\"rp\", \"\").strip()\n",
    "            value_str = pd.to_numeric(value_str) * ind_rp_to_dollar_conversion_rate                \n",
    "            \n",
    "        return value_str\n",
    "    else:\n",
    "        return value_str"
   ]
  },
  {
   "cell_type": "code",
   "execution_count": 98,
   "id": "21f963cf",
   "metadata": {},
   "outputs": [
    {
     "name": "stdout",
     "output_type": "stream",
     "text": [
      "['$. ' '$. - $.' '$ ' '$.–$.' '\\xa0$.'\n",
      " '\\xa0$.\\n\\t\\t\\t\\t\\t            \\t\\t\\t\\t\\t\\t\\t\\t            \\t\\t\\t\\t\\t            \\t\\t\\t\\n\\t\\t\\t\\t\\t            \\t\\t\\n\\t\\t\\t\\t\\t\\t            \\t\\t\\t\\tNow\\xa0$.'\n",
      " '₡.' 'Rp.' '. USD']\n"
     ]
    }
   ],
   "source": [
    "data['price'] = data['price'].apply(deletenumbers)\n",
    "prices = data['price'].unique()\n",
    "print(prices)"
   ]
  },
  {
   "cell_type": "markdown",
   "id": "0cbd3b70",
   "metadata": {},
   "source": [
    "We saw that "
   ]
  },
  {
   "cell_type": "code",
   "execution_count": 11,
   "id": "c5e06794",
   "metadata": {},
   "outputs": [],
   "source": [
    "data['mrp']=data['mrp'].apply(extract_usd_value).apply(pd.to_numeric)\n",
    "data['price']=data['price'].apply(extract_usd_value).apply(pd.to_numeric)"
   ]
  },
  {
   "cell_type": "code",
   "execution_count": 115,
   "id": "f6c533aa",
   "metadata": {
    "scrolled": false
   },
   "outputs": [
    {
     "data": {
      "text/html": [
       "<div>\n",
       "<style scoped>\n",
       "    .dataframe tbody tr th:only-of-type {\n",
       "        vertical-align: middle;\n",
       "    }\n",
       "\n",
       "    .dataframe tbody tr th {\n",
       "        vertical-align: top;\n",
       "    }\n",
       "\n",
       "    .dataframe thead th {\n",
       "        text-align: right;\n",
       "    }\n",
       "</style>\n",
       "<table border=\"1\" class=\"dataframe\">\n",
       "  <thead>\n",
       "    <tr style=\"text-align: right;\">\n",
       "      <th></th>\n",
       "      <th>product_name</th>\n",
       "      <th>mrp</th>\n",
       "      <th>price</th>\n",
       "      <th>pdp_url</th>\n",
       "      <th>brand_name</th>\n",
       "      <th>product_category</th>\n",
       "      <th>retailer</th>\n",
       "      <th>description</th>\n",
       "      <th>rating</th>\n",
       "      <th>review_count</th>\n",
       "      <th>style_attributes</th>\n",
       "      <th>total_sizes</th>\n",
       "      <th>available_size</th>\n",
       "      <th>color</th>\n",
       "    </tr>\n",
       "  </thead>\n",
       "  <tbody>\n",
       "    <tr>\n",
       "      <th>0</th>\n",
       "      <td>Calvin Klein Women's Sheer Marquisette Demi Un...</td>\n",
       "      <td>36.0</td>\n",
       "      <td>32.4</td>\n",
       "      <td>https://www.amazon.com/-/dp/B01NAVD98J?th=1&amp;psc=1</td>\n",
       "      <td>calvin klein</td>\n",
       "      <td>Bras</td>\n",
       "      <td>Amazon US</td>\n",
       "      <td>An unlined demi cup bra featuring sheer, sexy ...</td>\n",
       "      <td>4.5</td>\n",
       "      <td>47.0</td>\n",
       "      <td>[ 72% Nylon, 28% Elastane , Imported , hook an...</td>\n",
       "      <td>30B , 30C , 30D , 30DD , 32A , 32B , 32C , 32D...</td>\n",
       "      <td>30B , 30C , 30D , 30DD , 32B , 32C , 32D , 32D...</td>\n",
       "      <td>Bare</td>\n",
       "    </tr>\n",
       "    <tr>\n",
       "      <th>1</th>\n",
       "      <td>Wacoal Embrace Lace Bikini Panty</td>\n",
       "      <td>27.0</td>\n",
       "      <td>27.0</td>\n",
       "      <td>https://www.amazon.com/-/dp/B0011YQFNK?th=1&amp;psc=1</td>\n",
       "      <td>wacoal</td>\n",
       "      <td>Panties</td>\n",
       "      <td>Amazon US</td>\n",
       "      <td>Embrace lace bikini offers great fit and match...</td>\n",
       "      <td>4.4</td>\n",
       "      <td>91.0</td>\n",
       "      <td>[ 100% Nylon , Imported , Hand Wash , 1.2\" hig...</td>\n",
       "      <td>Small , Medium , Large , X-Large</td>\n",
       "      <td>Small , Medium , X-Large</td>\n",
       "      <td>Large</td>\n",
       "    </tr>\n",
       "    <tr>\n",
       "      <th>2</th>\n",
       "      <td>Wacoal Women's Slimline Seamless Minimizer Bra</td>\n",
       "      <td>65.0</td>\n",
       "      <td>65.0</td>\n",
       "      <td>https://www.amazon.com/-/dp/B000T3606Q?th=1&amp;psc=1</td>\n",
       "      <td>wacoal</td>\n",
       "      <td>Bras</td>\n",
       "      <td>Amazon US</td>\n",
       "      <td>Seamless underwire minimizer bra gives great s...</td>\n",
       "      <td>4.3</td>\n",
       "      <td>298.0</td>\n",
       "      <td>[ Cups: 100% Polyester; Back: 71% Nylon, 29% S...</td>\n",
       "      <td>32DD , 32DDD , 34C , 34D , 34DD , 34DDD , 36C ...</td>\n",
       "      <td>32DD , 32DDD , 34C , 34D , 34DD , 34DDD , 36C ...</td>\n",
       "      <td>Black</td>\n",
       "    </tr>\n",
       "  </tbody>\n",
       "</table>\n",
       "</div>"
      ],
      "text/plain": [
       "                                        product_name   mrp  price  \\\n",
       "0  Calvin Klein Women's Sheer Marquisette Demi Un...  36.0   32.4   \n",
       "1                   Wacoal Embrace Lace Bikini Panty  27.0   27.0   \n",
       "2     Wacoal Women's Slimline Seamless Minimizer Bra  65.0   65.0   \n",
       "\n",
       "                                             pdp_url    brand_name  \\\n",
       "0  https://www.amazon.com/-/dp/B01NAVD98J?th=1&psc=1  calvin klein   \n",
       "1  https://www.amazon.com/-/dp/B0011YQFNK?th=1&psc=1        wacoal   \n",
       "2  https://www.amazon.com/-/dp/B000T3606Q?th=1&psc=1        wacoal   \n",
       "\n",
       "  product_category   retailer  \\\n",
       "0             Bras  Amazon US   \n",
       "1          Panties  Amazon US   \n",
       "2             Bras  Amazon US   \n",
       "\n",
       "                                         description  rating  review_count  \\\n",
       "0  An unlined demi cup bra featuring sheer, sexy ...     4.5          47.0   \n",
       "1  Embrace lace bikini offers great fit and match...     4.4          91.0   \n",
       "2  Seamless underwire minimizer bra gives great s...     4.3         298.0   \n",
       "\n",
       "                                    style_attributes  \\\n",
       "0  [ 72% Nylon, 28% Elastane , Imported , hook an...   \n",
       "1  [ 100% Nylon , Imported , Hand Wash , 1.2\" hig...   \n",
       "2  [ Cups: 100% Polyester; Back: 71% Nylon, 29% S...   \n",
       "\n",
       "                                         total_sizes  \\\n",
       "0  30B , 30C , 30D , 30DD , 32A , 32B , 32C , 32D...   \n",
       "1                   Small , Medium , Large , X-Large   \n",
       "2  32DD , 32DDD , 34C , 34D , 34DD , 34DDD , 36C ...   \n",
       "\n",
       "                                      available_size  color  \n",
       "0  30B , 30C , 30D , 30DD , 32B , 32C , 32D , 32D...   Bare  \n",
       "1                           Small , Medium , X-Large  Large  \n",
       "2  32DD , 32DDD , 34C , 34D , 34DD , 34DDD , 36C ...  Black  "
      ]
     },
     "execution_count": 115,
     "metadata": {},
     "output_type": "execute_result"
    }
   ],
   "source": [
    "data.head(3)"
   ]
  },
  {
   "cell_type": "code",
   "execution_count": 69,
   "id": "0f5e5991",
   "metadata": {},
   "outputs": [],
   "source": [
    "categories = {\n",
    "    \"bra\" : [\"bra\", \"push-up\", \"classic\", \"tomgirl\", \"collections\", \"longline\", \"bridget\", \"hannah\", \"audrey\", \"lorna jane\", \"katie\", \"brooke\", \"push\", \"padded\", \"demi\", \"scoop\", \"full coverage\", \"wireless\", \"plunge\"],\n",
    "    \"panty\" : [\"panty\", \"panties\", \"brief\", \"hiphugger\",\"cheekies\", \"thong\", \"hipster\", \"cheekster\", \"short\", \"bottom\", \"undies\"],\n",
    "    \"bikini\" : [\"bikini\", \"triangle\", \"one-piece\", \"one piece\", \"high-neck\", \"hineck\"],\n",
    "    \"top\" : [\"tee\", \"top\", \"tank\", \"halter\", \"bandeau\", \"racerback\", \"cami\", \"crop\"],\n",
    "    \"lingerie\": [\"slip\", \"garter\", \"babydoll\", \"lingerie\", \"teddy\", \"sleepwear\", \"fishnet\", \"robe\", \"kimono\", \"bodysuit\", \"romper\", \"tunic\"],\n",
    "    \"shapewear\": [\"shapewear\", \"bustier\"],\n",
    "    \"socks\" : [\"sock\"],\n",
    "    \"leggings\": [\"legging\"],\n",
    "    \"bottle\": [\"bottle\"],\n",
    "    \"hoodie\" : [\"full-zip\"],\n",
    "    \"kit\" : [\"kit\", \"duffle\"],\n",
    "    \"petal\": [\"petal\"]  \n",
    "}\n",
    "\n",
    "def standardize_product_category(row):\n",
    "    product_category = row[\"product_category\"]\n",
    "    product_name = row[\"product_name\"]\n",
    "    \n",
    "    product_name = product_name.lower()\n",
    "    product_category = product_category.lower()\n",
    "    for group, items in categories.items():\n",
    "        for item in items:\n",
    "            if item in product_category:\n",
    "                return group\n",
    "\n",
    "    for group, items in categories.items():\n",
    "        for item in items:\n",
    "            if item in product_name:\n",
    "                return group\n",
    "\n",
    "    return product_category\n",
    "\n",
    "data[\"product_group\"] = data.apply(standardize_product_category, axis=1)"
   ]
  },
  {
   "cell_type": "code",
   "execution_count": 70,
   "id": "01fd060f",
   "metadata": {},
   "outputs": [
    {
     "data": {
      "text/plain": [
       "bra                   436388\n",
       "panty                 124268\n",
       "lingerie               39252\n",
       "top                     6077\n",
       "bikini                  5775\n",
       "shapewear               1019\n",
       "hoodie                    93\n",
       "socks                     82\n",
       "leggings                  66\n",
       "bottle                    39\n",
       "baseball hat              27\n",
       "petal                     22\n",
       "kit                       18\n",
       "washed canvas tote         9\n",
       "Name: product_group, dtype: int64"
      ]
     },
     "metadata": {},
     "output_type": "display_data"
    },
    {
     "name": "stdout",
     "output_type": "stream",
     "text": [
      "There are 14 categories! \n"
     ]
    },
    {
     "data": {
      "text/plain": [
       "<matplotlib.axes._subplots.AxesSubplot at 0x7f5f9d8b3b20>"
      ]
     },
     "execution_count": 70,
     "metadata": {},
     "output_type": "execute_result"
    },
    {
     "data": {
      "image/png": "[encoded data removed]",
      "text/plain": [
       "<Figure size 720x360 with 1 Axes>"
      ]
     },
     "metadata": {
      "needs_background": "light"
     },
     "output_type": "display_data"
    }
   ],
   "source": [
    "product_group = pd.value_counts(data['product_group'])\n",
    "display(product_group)\n",
    "print(\"There are %d categories! \"% (product_group.shape[0]))\n",
    "product_group.plot.bar(figsize=(10,5))"
   ]
  },
  {
   "cell_type": "markdown",
   "id": "8c62d754",
   "metadata": {},
   "source": [
    "### 5. Brand analysis"
   ]
  },
  {
   "cell_type": "markdown",
   "id": "b02a6e80",
   "metadata": {},
   "source": [
    "1. How does the pricing differ depending on the brand?"
   ]
  },
  {
   "cell_type": "code",
   "execution_count": 14,
   "id": "cb75f4ac",
   "metadata": {},
   "outputs": [
    {
     "data": {
      "image/png": "[encoded data removed]",
      "text/plain": [
       "<Figure size 1440x576 with 1 Axes>"
      ]
     },
     "metadata": {
      "needs_background": "light"
     },
     "output_type": "display_data"
    }
   ],
   "source": [
    "plt.figure(figsize=(20, 8))\n",
    "sns.boxplot( x=data[\"mrp\"], y=data[\"brand_name\"], palette = \"Pastel2\").set_title('Price range across brands')\n",
    "plt.grid()\n",
    "plt.show()"
   ]
  },
  {
   "cell_type": "markdown",
   "id": "8f2b13da",
   "metadata": {},
   "source": [
    "2. Topic modelling on the product description"
   ]
  },
  {
   "cell_type": "markdown",
   "id": "b43be86d",
   "metadata": {},
   "source": [
    "3. What are the most common color used by different brands?"
   ]
  },
  {
   "cell_type": "code",
   "execution_count": 65,
   "id": "019450d3",
   "metadata": {},
   "outputs": [
    {
     "data": {
      "text/html": [
       "<div>\n",
       "<style scoped>\n",
       "    .dataframe tbody tr th:only-of-type {\n",
       "        vertical-align: middle;\n",
       "    }\n",
       "\n",
       "    .dataframe tbody tr th {\n",
       "        vertical-align: top;\n",
       "    }\n",
       "\n",
       "    .dataframe thead th {\n",
       "        text-align: right;\n",
       "    }\n",
       "</style>\n",
       "<table border=\"1\" class=\"dataframe\">\n",
       "  <thead>\n",
       "    <tr style=\"text-align: right;\">\n",
       "      <th></th>\n",
       "      <th>brand_name</th>\n",
       "      <th>color</th>\n",
       "      <th>count</th>\n",
       "    </tr>\n",
       "  </thead>\n",
       "  <tbody>\n",
       "    <tr>\n",
       "      <th>0</th>\n",
       "      <td>aerie</td>\n",
       "      <td>True Black</td>\n",
       "      <td>4401</td>\n",
       "    </tr>\n",
       "    <tr>\n",
       "      <th>1</th>\n",
       "      <td>b. tempt'd</td>\n",
       "      <td>Night</td>\n",
       "      <td>1610</td>\n",
       "    </tr>\n",
       "    <tr>\n",
       "      <th>2</th>\n",
       "      <td>calvin klein</td>\n",
       "      <td>Black</td>\n",
       "      <td>5407</td>\n",
       "    </tr>\n",
       "    <tr>\n",
       "      <th>3</th>\n",
       "      <td>hanky panky</td>\n",
       "      <td>Black</td>\n",
       "      <td>6968</td>\n",
       "    </tr>\n",
       "    <tr>\n",
       "      <th>4</th>\n",
       "      <td>nordstrom lingerie</td>\n",
       "      <td>Black</td>\n",
       "      <td>158</td>\n",
       "    </tr>\n",
       "    <tr>\n",
       "      <th>5</th>\n",
       "      <td>us topshop</td>\n",
       "      <td>BLACK</td>\n",
       "      <td>448</td>\n",
       "    </tr>\n",
       "    <tr>\n",
       "      <th>6</th>\n",
       "      <td>vanity fair</td>\n",
       "      <td>Star White</td>\n",
       "      <td>345</td>\n",
       "    </tr>\n",
       "    <tr>\n",
       "      <th>7</th>\n",
       "      <td>victoria's secret</td>\n",
       "      <td>Black</td>\n",
       "      <td>17484</td>\n",
       "    </tr>\n",
       "    <tr>\n",
       "      <th>8</th>\n",
       "      <td>wacoal</td>\n",
       "      <td>Black</td>\n",
       "      <td>6890</td>\n",
       "    </tr>\n",
       "  </tbody>\n",
       "</table>\n",
       "</div>"
      ],
      "text/plain": [
       "           brand_name       color  count\n",
       "0               aerie  True Black   4401\n",
       "1          b. tempt'd       Night   1610\n",
       "2        calvin klein       Black   5407\n",
       "3         hanky panky       Black   6968\n",
       "4  nordstrom lingerie       Black    158\n",
       "5          us topshop       BLACK    448\n",
       "6         vanity fair  Star White    345\n",
       "7   victoria's secret       Black  17484\n",
       "8              wacoal       Black   6890"
      ]
     },
     "execution_count": 65,
     "metadata": {},
     "output_type": "execute_result"
    }
   ],
   "source": [
    "colors_first = data.groupby(['brand_name','color'])['color'].agg({'count'})\n",
    "df_count_first = colors_first.groupby(level=0).agg('idxmax')\n",
    "df_count_first = colors_first.loc[df_count_first['count']].reset_index()\n",
    "df_count_first"
   ]
  },
  {
   "cell_type": "code",
   "execution_count": 44,
   "id": "52a96ec5",
   "metadata": {},
   "outputs": [
    {
     "data": {
      "image/png": "[encoded data removed]",
      "text/plain": [
       "<Figure size 432x288 with 1 Axes>"
      ]
     },
     "metadata": {
      "needs_background": "light"
     },
     "output_type": "display_data"
    }
   ],
   "source": [
    "data.groupby([\"brand_name\"])[\"color\"].nunique().plot.bar(title='#Colors supported by brand')\n",
    "datacolor = data.groupby([\"brand_name\"])[\"color\"].unique()"
   ]
  },
  {
   "cell_type": "markdown",
   "id": "ceed1711",
   "metadata": {},
   "source": [
    "5. Analyses on the product rating"
   ]
  },
  {
   "cell_type": "code",
   "execution_count": 79,
   "id": "e9306803",
   "metadata": {},
   "outputs": [
    {
     "data": {
      "text/plain": [
       "Text(0, 0.5, 'Rating')"
      ]
     },
     "execution_count": 79,
     "metadata": {},
     "output_type": "execute_result"
    },
    {
     "data": {
      "image/png": "[encoded data removed]",
      "text/plain": [
       "<Figure size 1440x576 with 1 Axes>"
      ]
     },
     "metadata": {
      "needs_background": "light"
     },
     "output_type": "display_data"
    }
   ],
   "source": [
    "plt.figure(figsize=(20, 8))\n",
    "plot = sns.boxplot(x='product_group', y='rating', data=data)\n",
    "plot.set_title(\"Rating range for product\")\n",
    "plot.set_ylabel('Rating')"
   ]
  },
  {
   "cell_type": "markdown",
   "id": "f1eb3240",
   "metadata": {},
   "source": [
    "6. Common style attributes (wherever applicable)"
   ]
  }
 ],
 "metadata": {
  "kernelspec": {
   "display_name": "Python 3",
   "language": "python",
   "name": "python3"
  },
  "language_info": {
   "codemirror_mode": {
    "name": "ipython",
    "version": 3
   },
   "file_extension": ".py",
   "mimetype": "text/x-python",
   "name": "python",
   "nbconvert_exporter": "python",
   "pygments_lexer": "ipython3",
   "version": "3.8.10"
  }
 },
 "nbformat": 4,
 "nbformat_minor": 5
}
